{
 "cells": [
  {
   "cell_type": "markdown",
   "metadata": {
    "colab_type": "text",
    "id": "B0Gv39MkQ4gc"
   },
   "source": [
    "This code is for two agent system involving one UAV and one Rover starting from a same starting point. "
   ]
  },
  {
   "cell_type": "code",
   "execution_count": 2,
   "metadata": {
    "colab": {
     "base_uri": "https://localhost:8080/",
     "height": 255
    },
    "colab_type": "code",
    "id": "B3HIkG_IizfO",
    "outputId": "740d3441-586d-4048-9afc-e86fad2fb62c"
   },
   "outputs": [
    {
     "name": "stdout",
     "output_type": "stream",
     "text": [
      "Bids collected by two agents are as follows:\n",
      "[[100. 105.]\n",
      " [400.   0.]\n",
      " [200.   0.]\n",
      " [200.   0.]\n",
      " [100.  30.]\n",
      " [500.   0.]\n",
      " [200.  40.]\n",
      " [300.   0.]\n",
      " [100.  22.]\n",
      " [100. 220.]\n",
      " [200.   0.]]\n",
      "best bids for the tasks are as follows:\n",
      "[100. 400. 200. 200.  30. 500.  40. 300.  22. 100. 200.]\n"
     ]
    }
   ],
   "source": [
    "import numpy as np\n",
    "import pandas as pd\n",
    "\n",
    "task_dist=[10,40,20,20,10,50,20,30,10,10,20]\n",
    "task_dist_GR1=np.array([10,40,20,20,10,50,20,30,10,10,20])\n",
    "#task_dist_GR2= task_dist_GR1[::-1]\n",
    "task_dist_UAV1=np.array([70,0,0,0,100,0,40,0,110,110,0])\n",
    "#task_dist_UAV2=task_dist_UAV1[::-1]\n",
    "alt=[1600,1800]\n",
    "#print(task_dist_GR2)\n",
    "tasks= len(task_dist)\n",
    "k1=np.array( [1,0,0,0,1,0,1,0,1,1,0]) #capability matrix defines if the tasks defined can be completed by the UAVs or not\n",
    "k2= np.array(np.ones(11)) #capability matrix defines if the tasks defined can be completed by the GRs or not\n",
    "slope_LR=(np.array([1.5, -3, 3,4,-3,-2,1,3,-2,2,-3]))\n",
    "#print(slope_LR)\n",
    "slope_RL= slope_LR *-1\n",
    "#print(slope_RL)\n",
    "\n",
    "task_dist_f= np.c_[task_dist_GR1, task_dist_UAV1]\n",
    "#print(task_dist_f)\n",
    "#task_dist_d= pd.DataFrame[{'GR1':task_dist_GR1,'UAV1':task_dist_UAV1}]\n",
    "#print(task_dist_d)\n",
    "\n",
    "slope_LR_f=[]\n",
    "for i in slope_LR:\n",
    "  slope=i\n",
    "  #print(slope)\n",
    "  if(slope<0):\n",
    "    slope= ((slope*-1)/10)\n",
    "    slope_LR_f.append(slope)\n",
    "  elif (slope>0):\n",
    "    slope_LR_f.append(slope)\n",
    "  else:\n",
    "    slope=1\n",
    "    slope_LR_f.append(slope)\n",
    "\n",
    "#print(slope_LR_f)\n",
    "## AUCTION BID CALCULATION \n",
    "j=1\n",
    "#print(j)\n",
    "bid= np.zeros((11,2))\n",
    "for i in range(len(task_dist_f)):\n",
    "  for j in range(len(task_dist_f[i])):\n",
    "    if (j==1):  \n",
    "      bid[i][j]= slope_LR_f[i]*task_dist_f[i][j]\n",
    "      j=j+1   \n",
    "    else:\n",
    "      bid[i][j]= task_dist_f[i][j]*10\n",
    "print(\"Bids collected by two agents are as follows:\")\n",
    "print(bid)\n",
    "\n",
    "## Best Bid Slection\n",
    "m=0\n",
    "i=0\n",
    "j=0\n",
    "best_bid=np.zeros(11)\n",
    "task_agent=[]\n",
    "#print(best_bid)\n",
    "for m in range(len(bid)):\n",
    "    i=0\n",
    "    #print(m)\n",
    "    #print(bid[m])\n",
    "    l1=bid[m]\n",
    "    l1=np.sort(l1)\n",
    "    #print(l1)\n",
    "    x=l1[i]\n",
    "    #print(x)\n",
    "    best_bid[m]=x\n",
    "    task_agent[m]=\"\"\n",
    "    if (x==0):\n",
    "        x=l1[i+1]\n",
    "        best_bid[m]=x\n",
    "        #print(best_bid[m])\n",
    "print(\"best bids for the tasks are as follows:\")\n",
    "print(best_bid)\n",
    "    \n",
    "\n",
    " "
   ]
  },
  {
   "cell_type": "markdown",
   "metadata": {
    "colab_type": "text",
    "id": "0e_YnAORkgI_"
   },
   "source": [
    "Possible loopholes and solutions:\n",
    "\n",
    "1. **I have considered that both robots have the same starting point**. For us to consider multiple starting positions, we need to come up with a coordinate system with a sign convention (in my opinion), where moving left should be negative and moving right will be positive.\n",
    "\n",
    "2. **When considering different starting location, there has to be a traveral cost for reaching the task point**, so the bid should involve (traversal+task cost).\n",
    "\n",
    "3. **UAV take-off cost aren't considered**.\n",
    "\n"
   ]
  },
  {
   "cell_type": "code",
   "execution_count": 5,
   "metadata": {
    "colab": {},
    "colab_type": "code",
    "id": "ORut4YcUTxQh",
    "scrolled": true
   },
   "outputs": [
    {
     "name": "stdout",
     "output_type": "stream",
     "text": [
      "Bids collected by two agents are as follows:\n",
      "[[100. 105.]\n",
      " [400.   0.]\n",
      " [600.   0.]\n",
      " [200.  30.]\n",
      " [500.   0.]\n",
      " [200.  40.]\n",
      " [300.   0.]\n",
      " [100.  22.]\n",
      " [100. 220.]\n",
      " [200.   0.]]\n",
      "best bids for the tasks are as follows:\n",
      "[100. 400. 600.  30. 500.  40. 300.  22. 100. 200.]\n",
      "Task allocation\n",
      "['GR1', 'GR1', 'GR1', 'UAV1', 'GR1', 'UAV1', 'GR1', 'UAV1', 'GR1', 'GR1']\n"
     ]
    }
   ],
   "source": [
    "import numpy as np\n",
    "import pandas as pd\n",
    "\n",
    "task_dist=[10,40,60,20,50,20,30,10,10,20]\n",
    "task_dist_GR1=np.array([10,40,60,20,50,20,30,10,10,20])\n",
    "#task_dist_GR2= task_dist_GR1[::-1]\n",
    "task_dist_UAV1=np.array([70,0,0,100,0,40,0,110,110,0])\n",
    "#task_dist_UAV2=task_dist_UAV1[::-1]\n",
    "alt=[1600,1800]\n",
    "#print(task_dist_GR2)\n",
    "tasks= len(task_dist)\n",
    "k1=np.array( [1,0,0,0,1,0,1,0,1,1,0]) #capability matrix defines if the tasks defined can be completed by the UAVs or not\n",
    "k2= np.array(np.ones(11)) #capability matrix defines if the tasks defined can be completed by the GRs or not\n",
    "slope_LR=(np.array([1.5, -3, 3,-3,-2,1,3,-2,2,-3]))\n",
    "#print(slope_LR)\n",
    "slope_RL= slope_LR *-1\n",
    "#print(slope_RL)\n",
    "\n",
    "task_dist_f= np.c_[task_dist_GR1, task_dist_UAV1]\n",
    "#print(task_dist_f)\n",
    "#task_dist_d= pd.DataFrame[{'GR1':task_dist_GR1,'UAV1':task_dist_UAV1}]\n",
    "#print(task_dist_d)\n",
    "\n",
    "slope_LR_f=[]\n",
    "for i in slope_LR:\n",
    "  slope=i\n",
    "  #print(slope)\n",
    "  if(slope<0):\n",
    "    slope= ((slope*-1)/10)\n",
    "    slope_LR_f.append(slope)\n",
    "  elif (slope>0):\n",
    "    slope_LR_f.append(slope)\n",
    "  else:\n",
    "    slope=1\n",
    "    slope_LR_f.append(slope)\n",
    "\n",
    "#print(slope_LR_f)\n",
    "## AUCTION BID CALCULATION \n",
    "j=1\n",
    "#print(j)\n",
    "bid= np.zeros((10,2))\n",
    "bid_agent=[\"GR1\",\"UAV1\"] \n",
    "for i in range(len(task_dist_f)):\n",
    "  for j in range(len(task_dist_f[i])):\n",
    "    if (j==1):  \n",
    "      bid[i][j]= slope_LR_f[i]*task_dist_f[i][j]\n",
    "      j=j+1   \n",
    "    else:\n",
    "      bid[i][j]= task_dist_f[i][j]*10\n",
    "print(\"Bids collected by two agents are as follows:\")\n",
    "print(bid)\n",
    "\n",
    "## Best Bid Slection\n",
    "m=0\n",
    "i=0\n",
    "j=0\n",
    "best_bid=np.zeros(10)\n",
    "task_agent=[]\n",
    "#print(best_bid)\n",
    "for m in range(len(bid)):\n",
    "    i=0\n",
    "    #print(m)\n",
    "    #print(bid[m])\n",
    "    l1=bid[m]\n",
    "    l2=np.sort(l1)\n",
    "    Z = [bid_agent for _,bid_agent in sorted(zip(l1,bid_agent))]\n",
    "    #print(Z)\n",
    "    #print(l1)\n",
    "    x=l2[i]\n",
    "    #print(x)\n",
    "    \n",
    "    if (x==0):\n",
    "        x=l2[i+1]\n",
    "        best_bid[m]=x\n",
    "        agent=Z[i+1]\n",
    "        task_agent.insert(m,agent)\n",
    "    else:\n",
    "        best_bid[m]=x\n",
    "        agent=Z[i]\n",
    "        #print(agent)\n",
    "        task_agent.insert(m,agent)\n",
    "        \n",
    "        \n",
    "        #print(best_bid[m])\n",
    "print(\"best bids for the tasks are as follows:\")\n",
    "print(best_bid)\n",
    "\n",
    "print(\"Task allocation\")\n",
    "print(task_agent)\n",
    "\n"
   ]
  },
  {
   "cell_type": "markdown",
   "metadata": {},
   "source": [
    "The code below attempts to solve the overlap problem"
   ]
  },
  {
   "cell_type": "code",
   "execution_count": 11,
   "metadata": {},
   "outputs": [
    {
     "name": "stdout",
     "output_type": "stream",
     "text": [
      "[[ 0. 10.  0.  0.  0.]\n",
      " [ 0.  0. 70.  0.  0.]\n",
      " [ 0.  0.  0. 90.  0.]\n",
      " [ 0.  0.  0.  0. 40.]\n",
      " [ 0.  0.  0.  0.  0.]]\n"
     ]
    }
   ],
   "source": [
    "import numpy as np\n",
    "import pandas as pd\n",
    "\n",
    "trip_distance=[70,100,110,110,40]\n",
    "trip_coord=[[0,70],[60,160],[90,200],[110,230],[110,150]]\n",
    "overlap= np.zeros((5,5))\n",
    "\n",
    "for i in range(len(trip_coord)-1):\n",
    "    min_coord=trip_coord[i][0]\n",
    "    max_coord=trip_coord[i][1]\n",
    "    min_next=trip_coord[i+1][0]\n",
    "    max_next=trip_coord[i+1][1]\n",
    "    overlap[i][i]=0\n",
    "    overlap[i][i+1]= max(0,min(max_coord,max_next)-max(min_coord,min_next))\n",
    "    \n",
    "print(overlap)"
   ]
  },
  {
   "cell_type": "markdown",
   "metadata": {},
   "source": [
    "UAV coordination"
   ]
  },
  {
   "cell_type": "code",
   "execution_count": 42,
   "metadata": {},
   "outputs": [
    {
     "name": "stdout",
     "output_type": "stream",
     "text": [
      "Allocated agents are:\n",
      "['UAV1', 'UAV1', 'UAV2', 'NA', 'UAV2', 'UAV2']\n",
      "\n",
      "Total cost of operation:\n",
      "0\n"
     ]
    }
   ],
   "source": [
    "import numpy as np\n",
    "import pandas as pd\n",
    "\n",
    "trip_distance=[120,100,140,90,180,90]\n",
    "trip_cord=[[0,120],[0,100],[70,210],[90,180],[30,210],[120,210]]\n",
    "y=1800\n",
    "uav1=0\n",
    "uav2=210\n",
    "d1=0\n",
    "d2=0\n",
    "allocated_agent=[]\n",
    "op_cost=np.zeros(2)\n",
    "total_cost=0\n",
    "j=0\n",
    "for i in range(len(trip_cord)):\n",
    "    \n",
    "    x1=trip_cord[i][0]\n",
    "    x2=trip_cord[i][1]\n",
    "    if x1 <= uav1 <= x2:\n",
    "        allocated_agent.insert(i,\"UAV1\")\n",
    "    elif x1 <= uav2 <= x2:\n",
    "        allocated_agent.insert(i,\"UAV2\")\n",
    "    else:\n",
    "        allocated_agent.insert(i,\"NA\")\n",
    "        \n",
    "    \n",
    "        \n",
    "print(\"Allocated agents are:\")\n",
    "print(allocated_agent)\n",
    "print(\"\\nTotal cost of operation:\")\n",
    "print(total_cost)\n"
   ]
  },
  {
   "cell_type": "code",
   "execution_count": null,
   "metadata": {},
   "outputs": [],
   "source": []
  }
 ],
 "metadata": {
  "accelerator": "GPU",
  "colab": {
   "name": "CBTA-basic.ipynb",
   "provenance": []
  },
  "kernelspec": {
   "display_name": "Python 3",
   "language": "python",
   "name": "python3"
  },
  "language_info": {
   "codemirror_mode": {
    "name": "ipython",
    "version": 3
   },
   "file_extension": ".py",
   "mimetype": "text/x-python",
   "name": "python",
   "nbconvert_exporter": "python",
   "pygments_lexer": "ipython3",
   "version": "3.6.5"
  }
 },
 "nbformat": 4,
 "nbformat_minor": 1
}
